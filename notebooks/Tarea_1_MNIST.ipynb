{
 "cells": [
  {
   "cell_type": "markdown",
   "metadata": {},
   "source": [
    "# Entendiendo tensorflow: un ejemplo con MNIST "
   ]
  },
  {
   "cell_type": "markdown",
   "metadata": {},
   "source": [
    "El primer ejemplo clásico de `tensorflow` consiste en entrenar una red neuronal para identificar dígitos del 0 al 9 usando la base de datos MNIST.\n",
    "\n",
    "Si uno entra al tutorial de `tensorflow`, [la primera página](https://www.tensorflow.org/tutorials/) contiene el siguiente código:"
   ]
  },
  {
   "cell_type": "markdown",
   "metadata": {},
   "source": [
    "```python\n",
    "import tensorflow as tf\n",
    "mnist = tf.keras.datasets.mnist\n",
    "\n",
    "(x_train, y_train),(x_test, y_test) = mnist.load_data()\n",
    "x_train, x_test = x_train / 255.0, x_test / 255.0\n",
    "\n",
    "model = tf.keras.models.Sequential([\n",
    "  tf.keras.layers.Flatten(),\n",
    "  tf.keras.layers.Dense(512, activation=tf.nn.relu),\n",
    "  tf.keras.layers.Dropout(0.2),\n",
    "  tf.keras.layers.Dense(10, activation=tf.nn.softmax)\n",
    "])\n",
    "model.compile(optimizer='adam',\n",
    "              loss='sparse_categorical_crossentropy',\n",
    "              metrics=['accuracy'])\n",
    "\n",
    "model.fit(x_train, y_train, epochs=5)\n",
    "model.evaluate(x_test, y_test)\n",
    "```"
   ]
  },
  {
   "cell_type": "markdown",
   "metadata": {},
   "source": [
    "Intentemos explicarla parte por parte."
   ]
  },
  {
   "cell_type": "markdown",
   "metadata": {},
   "source": [
    "Comenzamos importando `tensorflow` y descargando la base de datos `mnist`"
   ]
  },
  {
   "cell_type": "code",
   "execution_count": 1,
   "metadata": {},
   "outputs": [],
   "source": [
    "import tensorflow as tf\n",
    "mnist = tf.keras.datasets.mnist"
   ]
  },
  {
   "cell_type": "markdown",
   "metadata": {},
   "source": [
    "Separamos la información en datos de entrenamiento y datos de test, y los normalizamos."
   ]
  },
  {
   "cell_type": "code",
   "execution_count": 2,
   "metadata": {},
   "outputs": [],
   "source": [
    "(x_train, y_train),(x_test, y_test) = mnist.load_data()\n",
    "x_train, x_test = x_train / 255.0, x_test / 255.0"
   ]
  },
  {
   "cell_type": "markdown",
   "metadata": {},
   "source": [
    "¿Qué son `x_train` y `y_train`?, veamos"
   ]
  },
  {
   "cell_type": "code",
   "execution_count": 3,
   "metadata": {},
   "outputs": [
    {
     "name": "stdout",
     "output_type": "stream",
     "text": [
      "<class 'numpy.ndarray'>\n"
     ]
    }
   ],
   "source": [
    "print(type(x_train))"
   ]
  },
  {
   "cell_type": "code",
   "execution_count": 4,
   "metadata": {},
   "outputs": [
    {
     "data": {
      "text/plain": [
       "3"
      ]
     },
     "execution_count": 4,
     "metadata": {},
     "output_type": "execute_result"
    }
   ],
   "source": [
    "x_train.ndim"
   ]
  },
  {
   "cell_type": "markdown",
   "metadata": {},
   "source": [
    "¡ajá!, `x_train` es un `np.array` de dimensión 3."
   ]
  },
  {
   "cell_type": "code",
   "execution_count": 5,
   "metadata": {},
   "outputs": [
    {
     "data": {
      "text/plain": [
       "(60000, 28, 28)"
      ]
     },
     "execution_count": 5,
     "metadata": {},
     "output_type": "execute_result"
    }
   ],
   "source": [
    "x_train.shape"
   ]
  },
  {
   "cell_type": "markdown",
   "metadata": {},
   "source": [
    "podemos entender a `x_train` como una colección de 60000 imágenes de tamaño `(28, 28)`. Veamos qué tiene `y_train`."
   ]
  },
  {
   "cell_type": "code",
   "execution_count": 6,
   "metadata": {},
   "outputs": [
    {
     "data": {
      "text/plain": [
       "array([5, 0, 4, ..., 5, 6, 8], dtype=uint8)"
      ]
     },
     "execution_count": 6,
     "metadata": {},
     "output_type": "execute_result"
    }
   ],
   "source": [
    "y_train"
   ]
  },
  {
   "cell_type": "code",
   "execution_count": 7,
   "metadata": {},
   "outputs": [
    {
     "data": {
      "text/plain": [
       "(60000,)"
      ]
     },
     "execution_count": 7,
     "metadata": {},
     "output_type": "execute_result"
    }
   ],
   "source": [
    "y_train.shape"
   ]
  },
  {
   "cell_type": "markdown",
   "metadata": {},
   "source": [
    "`y_train` es un vector con `60000` con las etiquetas respectivas de las imágenes en `x_train`. Imprimamos un par usando `matshow`, una función de `matplotlib`."
   ]
  },
  {
   "cell_type": "code",
   "execution_count": 8,
   "metadata": {},
   "outputs": [],
   "source": [
    "import matplotlib.pyplot as plt\n",
    "import numpy as np"
   ]
  },
  {
   "cell_type": "code",
   "execution_count": 9,
   "metadata": {},
   "outputs": [],
   "source": [
    "def print_a_random_number():\n",
    "    i = np.random.randint(0, 60000, 1)[0]\n",
    "    plt.figure()\n",
    "    plt.imshow(x_train[i,:,:])\n",
    "    plt.title('Number: {}'.format(y_train[i]))\n",
    "    plt.show()"
   ]
  },
  {
   "cell_type": "code",
   "execution_count": 10,
   "metadata": {},
   "outputs": [
    {
     "data": {
      "image/png": "[encoded data removed]",
      "text/plain": [
       "<Figure size 432x288 with 1 Axes>"
      ]
     },
     "metadata": {
      "needs_background": "light"
     },
     "output_type": "display_data"
    }
   ],
   "source": [
    "print_a_random_number()"
   ]
  },
  {
   "cell_type": "markdown",
   "metadata": {},
   "source": [
    "Ahora pasamos a **crear** el modelo"
   ]
  },
  {
   "cell_type": "code",
   "execution_count": 11,
   "metadata": {},
   "outputs": [],
   "source": [
    "model = tf.keras.models.Sequential([\n",
    "  tf.keras.layers.Flatten(),\n",
    "  tf.keras.layers.Dense(512, activation=tf.nn.relu),\n",
    "  tf.keras.layers.Dropout(0.2),\n",
    "  tf.keras.layers.Dense(10, activation=tf.nn.softmax)\n",
    "])"
   ]
  },
  {
   "cell_type": "markdown",
   "metadata": {},
   "source": [
    "En esta parte estamos estableciendo las capas internas del modelo:\n",
    "- `tf.keras.models.Sequential` toma una lista de capas y crea un modelo *feed-forward*.\n",
    "- `tf.keras.layers.Flatten()` simplemente convierte cada foto de una matriz `(28, 28)` a un vector de tamaño `(28*28,)`.\n",
    "- `tf.keras.layers.Dense(512, activation=tf.nn.relu)` corresponde a una capa de la red neuronal completamente conectada con 512 nodos, con función de activación `relu`.\n",
    "- `tf.keras.layers.Dropout(0.2)` selecciona el 20% de las entradas y las convierte a 0. \n",
    "- `tf.keras.layers.Dense(10, activation=tf.nn.softmax)` crea una última capa de la red con 10 nodos y activación softmax (i.e. estas salidas son una combinación baricéntrica, un conjunto de números que suman 1 y están entre 0 y 1). Éstas salidas modelan la probabilidad de que la entrada sea cierto dígito."
   ]
  },
  {
   "cell_type": "markdown",
   "metadata": {},
   "source": [
    "Ahora seguimos con compilar el modelo. En este paso establecemos el proceso mediante el cual encontraremos el mínimo, la función de pérdida o error, y las métricas."
   ]
  },
  {
   "cell_type": "code",
   "execution_count": 12,
   "metadata": {},
   "outputs": [],
   "source": [
    "model.compile(optimizer='adam',\n",
    "              loss='sparse_categorical_crossentropy',\n",
    "              metrics=['accuracy'])"
   ]
  },
  {
   "cell_type": "markdown",
   "metadata": {},
   "source": [
    "Acá casi todo se explica por sí mismo, pero vale la pena hablar de `adam`. `adam` es un [algoritmo de optimización](https://arxiv.org/pdf/1412.6980.pdf). Seguimos con ajustar el modelo en los datos de entrenamiento."
   ]
  },
  {
   "cell_type": "code",
   "execution_count": 13,
   "metadata": {},
   "outputs": [
    {
     "name": "stdout",
     "output_type": "stream",
     "text": [
      "Epoch 1/5\n",
      "60000/60000 [==============================] - 10s 168us/step - loss: 0.2008 - acc: 0.9402\n",
      "Epoch 2/5\n",
      "60000/60000 [==============================] - 10s 168us/step - loss: 0.0809 - acc: 0.9756\n",
      "Epoch 3/5\n",
      "60000/60000 [==============================] - 10s 165us/step - loss: 0.0520 - acc: 0.9834\n",
      "Epoch 4/5\n",
      "60000/60000 [==============================] - 10s 167us/step - loss: 0.0383 - acc: 0.9879\n",
      "Epoch 5/5\n",
      "60000/60000 [==============================] - 10s 172us/step - loss: 0.0269 - acc: 0.9912\n"
     ]
    },
    {
     "data": {
      "text/plain": [
       "<tensorflow.python.keras.callbacks.History at 0x7f9d351500b8>"
      ]
     },
     "execution_count": 13,
     "metadata": {},
     "output_type": "execute_result"
    }
   ],
   "source": [
    "model.fit(x_train, y_train, epochs=5)"
   ]
  },
  {
   "cell_type": "markdown",
   "metadata": {},
   "source": [
    "En este punto ya tenemos el modelo entrenado. Veamos qué tan bien pasa la evaluación en el testset:"
   ]
  },
  {
   "cell_type": "code",
   "execution_count": 14,
   "metadata": {},
   "outputs": [
    {
     "name": "stdout",
     "output_type": "stream",
     "text": [
      "10000/10000 [==============================] - 1s 51us/step\n"
     ]
    },
    {
     "data": {
      "text/plain": [
       "[0.06549296697915998, 0.9814]"
      ]
     },
     "execution_count": 14,
     "metadata": {},
     "output_type": "execute_result"
    }
   ],
   "source": [
    "model.evaluate(x_test, y_test)"
   ]
  },
  {
   "cell_type": "markdown",
   "metadata": {},
   "source": [
    "Es decir, este modelo tiene un error (`loss`) de `0.07`, y tiene una `accuracy` de `0.9798`."
   ]
  },
  {
   "cell_type": "markdown",
   "metadata": {},
   "source": [
    "Veamos un poco más en dónde se equivocó el modelo:"
   ]
  },
  {
   "cell_type": "code",
   "execution_count": 15,
   "metadata": {},
   "outputs": [],
   "source": [
    "errors_i = []\n",
    "for i, image in enumerate(x_test):\n",
    "    prediction = np.argmax(model.predict(np.array([image]))[0])\n",
    "    if y_test[i] != prediction:\n",
    "        # print('y_test[i]: {}, predicción: {}, i: {}'.format(y_test[i], prediction, i))\n",
    "        # plt.matshow(image)\n",
    "        errors_i.append(i)"
   ]
  },
  {
   "cell_type": "code",
   "execution_count": 16,
   "metadata": {},
   "outputs": [],
   "source": [
    "import random"
   ]
  },
  {
   "cell_type": "code",
   "execution_count": 17,
   "metadata": {},
   "outputs": [],
   "source": [
    "def print_image_from_test_set():\n",
    "    i = random.choice(errors_i)\n",
    "    # print(np.array([x_test[i]]))\n",
    "    prediction = np.argmax(model.predict(np.array([x_test[i]]))[0])\n",
    "    print(model.predict(np.array([x_test[i]]))[0])\n",
    "    plt.figure()\n",
    "    plt.imshow(x_test[i,:,:])\n",
    "    plt.title('Number: {}, Pred: {}'.format(y_test[i], prediction))\n",
    "    plt.show()"
   ]
  },
  {
   "cell_type": "code",
   "execution_count": 18,
   "metadata": {},
   "outputs": [
    {
     "name": "stdout",
     "output_type": "stream",
     "text": [
      "[2.31913782e-06 1.14540336e-10 3.15786770e-06 1.04701854e-02\n",
      " 1.62694214e-08 1.01627968e-03 1.76938200e-10 3.51943719e-08\n",
      " 8.21323872e-01 1.67184055e-01]\n"
     ]
    },
    {
     "data": {
      "image/png": "[encoded data removed]",
      "text/plain": [
       "<Figure size 432x288 with 1 Axes>"
      ]
     },
     "metadata": {
      "needs_background": "light"
     },
     "output_type": "display_data"
    }
   ],
   "source": [
    "print_image_from_test_set()"
   ]
  }
 ],
 "metadata": {
  "kernelspec": {
   "display_name": "Python 3",
   "language": "python",
   "name": "python3"
  },
  "language_info": {
   "codemirror_mode": {
    "name": "ipython",
    "version": 3
   },
   "file_extension": ".py",
   "mimetype": "text/x-python",
   "name": "python",
   "nbconvert_exporter": "python",
   "pygments_lexer": "ipython3",
   "version": "3.6.6"
  }
 },
 "nbformat": 4,
 "nbformat_minor": 2
}
